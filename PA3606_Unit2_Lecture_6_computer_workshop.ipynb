{
 "cells": [
  {
   "cell_type": "markdown",
   "id": "48335774-1aa9-4f2d-8024-d6020c7201ea",
   "metadata": {},
   "source": [
    "## PA3606 UNIT 2: Climate Physics\n",
    "# Computer Workshop 2: Atmospheric Structure "
   ]
  },
  {
   "attachments": {},
   "cell_type": "markdown",
   "id": "a01287b6-cbb2-4082-8304-9af5fa172b2a",
   "metadata": {},
   "source": [
    "## Last time ...\n",
    "* Origin of the atmosphere & present day composition\n",
    "* Atmospheric composition units (volume & mass mixing ratios)\n",
    "* Atmospheric Moisture\n",
    "* Virtual Temperature\n",
    "* Simple box models (chemical lifetime, oxidising capacity)\n",
    "* Atmospheric chemistry (ozone, key issues, uncertainties)"
   ]
  },
  {
   "cell_type": "markdown",
   "id": "2d342d70-3c16-49fc-9c4e-35f9a59ba1d7",
   "metadata": {},
   "source": [
    "![objectives](img/session_objectives.png)"
   ]
  },
  {
   "attachments": {},
   "cell_type": "markdown",
   "id": "d0a284d1-638c-4537-9192-75f736852a1e",
   "metadata": {},
   "source": [
    "***\n",
    "# What is an Atmosphere?\n",
    "![what is an atmos](img/compres_atm.png)\n",
    "\n",
    "- An atmosphere is a thin, diffuse fluid that sits above the surface of a planet, held by gravity\n",
    "- Since an atmosphere’s fluid is a compressible gas rather than a relatively incompressible liquid, it has no clearly defined ‘top’\n",
    "- The ability of atmosphere gaseous mixture to compress or expand substantially in response to changes in pressure is a driver of dynamical motions\n",
    "- Like any fluid, the atmosphere flows horizontally under the influence of gravity to maintain a more or less uniform distribution of mass, as measured above any fixed surface\n"
   ]
  },
  {
   "cell_type": "markdown",
   "id": "ee1b610d-bab6-4847-8f61-132a0a074545",
   "metadata": {},
   "source": [
    "# Atmospheric Regions"
   ]
  },
  {
   "cell_type": "markdown",
   "id": "7435492c-192a-46e5-be97-9a19ce7422c8",
   "metadata": {},
   "source": [
    "![atmos regions](img/atmos_regions.png)"
   ]
  },
  {
   "attachments": {},
   "cell_type": "markdown",
   "id": "8220d7b3-7f57-488e-aaed-f0575ae12b77",
   "metadata": {},
   "source": [
    "### Definitions\n",
    "- <span style=\"color:blue\">**Heterosphere**</span>: Dominated by lighter gases with increasing altitude, such as hydrogen and helium (i.e. stratification according to molecular weight)\n",
    "- <span style=\"color:blue\">**Homosphere**</span>: this part of the atmosphere continually circulates (turbulent mixing), so that the principal atmospheric gases are well-mixed\n",
    "  \n",
    "\n",
    "On Earth, for most purposes, we consider the homosphere virtually the entire atmosphere\n",
    "- <span style=\"color:blue\">**Karman line**</span> can be considered a boundary between Earths atmosphere and outer space\n",
    "Altitude too thin to support aeronautical flight: a vehicle at this altitude would have to travel faster than orbital velocity to derive sufficient aerodynamic lift\n",
    "- <span style=\"color:blue\">**Exobase**</span> considered an upper boundary for the Earths atmosphere\n",
    "Defined as when molecular free path exceeds its scale height. Gases are bound by gravity but where density is too low for them to behave as a gas by colliding with each other\n",
    "Some thin atmospheres only have an exosphere\n",
    "\n"
   ]
  },
  {
   "attachments": {},
   "cell_type": "markdown",
   "id": "bc8a0dff-d65b-42b7-84a4-a204d06b1227",
   "metadata": {},
   "source": [
    "# Atmospheric Lapse Rate"
   ]
  },
  {
   "cell_type": "markdown",
   "id": "1a4e56be-9289-48ac-b467-9bc51cf2d5a0",
   "metadata": {},
   "source": [
    "![lapse rates](img/lapse_rate_example.png)"
   ]
  },
  {
   "attachments": {},
   "cell_type": "markdown",
   "id": "011668fe-30ad-44ad-a554-48ea54c5a4f7",
   "metadata": {},
   "source": [
    "The structure of planetary atmospheres are defined by **temperature gradients**, or **atmospheric lapse rates** $\\Gamma$:\n",
    "\n",
    "### $\\Gamma = -\\frac{dT}{dz} = -\\Big(\\frac{T_{2}-T_{1}}{z_{2}-z_{1}}\\Big)$\n",
    "\n",
    "- When temperature increases with altitude, the atmosphere is stable \n",
    "- When temperature decreases with altitude the atmosphere is less stable\n"
   ]
  },
  {
   "cell_type": "markdown",
   "id": "ecd796b2-f341-48f2-b00b-c7a43e43d9cb",
   "metadata": {},
   "source": [
    "## Exersise 1: Investigating the lapse rate over Lindenberg, Germany\n",
    "For this first exersise we are going to look at the tropospheric lapse rate between 2008-2016 using radiosonde data collected using weather balloons over Lindenberg in Germany. The dataset we will make use of come from the Global Climate Observing System (GCOS) Reference Upper-Air Network (GRUAN) database (https://www.gruan.org/) which contains measurements from around 30 sites globally. GRUAN empose a set of standard operating proceedures on all sites that wish to qualify as part of the network (probably ~1000 radisonde sites globally). This ensures a calibration consistency across the network, standard characterisation of measuremnts, and production of uncertainities. Therefore, GRUAN observations are considered to be 'climate quality' data.  "
   ]
  },
  {
   "cell_type": "markdown",
   "id": "f778a45b-205f-47da-9fd7-c0874fe27ad9",
   "metadata": {},
   "source": [
    "![gruan](img/gruan_sites.png)"
   ]
  },
  {
   "cell_type": "markdown",
   "id": "f8b597f1-7a16-4bb6-b6c8-2c90868e0b3f",
   "metadata": {},
   "source": [
    "### Lets begin by reading in some temperature profile data\n",
    "First we'll load our Python libraries we need:"
   ]
  },
  {
   "cell_type": "code",
   "execution_count": 4,
   "id": "38e19b47-ef73-4f9d-a5e7-fb9499477411",
   "metadata": {},
   "outputs": [],
   "source": [
    "import netCDF4                  # used for reading in the data\n",
    "import matplotlib.pyplot as plt # used for plotting the data\n",
    "import numpy as np              # used for math functions and creating arrays etc\n",
    "from scipy import stats         # stats module for linear regression"
   ]
  },
  {
   "cell_type": "markdown",
   "id": "04b76afa-3973-4f80-88c5-a5eaaa501581",
   "metadata": {},
   "source": [
    "Next we want to read in the radiosonde data from Lindenberg. The steps we follow are:\n",
    "1. define a variable called ``` filename ``` that tells the computer where to find the data\n",
    "2. read in the data using the <span style=\"color:blue\">**netCDF4**</span>\n",
    "3. next we want to take a look at what is inside the file\n",
    "4. extract the data and close the file"
   ]
  },
  {
   "cell_type": "code",
   "execution_count": 16,
   "id": "f891aab4-9cf0-4f20-af88-e77938d8b450",
   "metadata": {},
   "outputs": [
    {
     "data": {
      "text/plain": [
       "<class 'netCDF4.Dataset'>\n",
       "root group (NETCDF4 data model, file format HDF5):\n",
       "    title: Gridded GRUAN tropospheric temperature profiles from Lindenberg\n",
       "    Conventions: CF-1.5\n",
       "    Metadata_Conventions: Unidata Dataset Discovery v2.0\n",
       "    id: \n",
       "    product_version: v1.0\n",
       "    institution: UoL\n",
       "    creator_url: http://www.le.ac.uk\n",
       "    creator_email: t.trent@le.ac.uk\n",
       "    time_coverage_start: 2008-01-01\n",
       "    time_coverage_stop: 2016-12-31\n",
       "    geospatial_lat_units: degrees_north\n",
       "    geospatial_lon_units: degrees_east\n",
       "    comment: PA3606 Computer Workshop 2\n",
       "    date_created: 2025-02-16 10:22:19.906320\n",
       "    dimensions(sizes): time(11233), level(80)\n",
       "    variables(dimensions): float32 altitude(level), int64 time(time), float32 T(level, time)\n",
       "    groups: "
      ]
     },
     "execution_count": 16,
     "metadata": {},
     "output_type": "execute_result"
    }
   ],
   "source": [
    "# 1. define filename\n",
    "filename = \"data/gruan_temperature_profiles_lindenberg_2008_to_2016.nc\"\n",
    "\n",
    "# 2. read in the data to memory. We use a unit test approach (good practice) when doing this, the 'try' command\n",
    "# will first attempt to execute the command witten underneath whichin our case is to read the file into memory,\n",
    "# if it fails it raises a specific error which tells youthereis an issue with the command\n",
    "try:\n",
    "    nc = netCDF4.Dataset(filename)\n",
    "except IOError:\n",
    "    raise\n",
    "# print the global meta data for the file we have just read in\n",
    "nc"
   ]
  },
  {
   "cell_type": "markdown",
   "id": "4f29b44f-fc0f-4de8-93f4-1c835b34475f",
   "metadata": {},
   "source": [
    "from the global meta data we can see that the data inside:\n",
    "* runs from 2008-2016\n",
    "* has two dimsions ```dimensions(sizes): time(11233), level(80)```\n",
    "* has three variables; i) altitude, ii) time, and ii) T\n",
    "\n",
    "lets look atthe variables in a bit more detail:"
   ]
  },
  {
   "cell_type": "code",
   "execution_count": 17,
   "id": "3e048e59-0b60-4f72-bd11-6a93219d612f",
   "metadata": {},
   "outputs": [
    {
     "data": {
      "text/plain": [
       "{'altitude': <class 'netCDF4.Variable'>\n",
       " float32 altitude(level)\n",
       "     long_name: altitude\n",
       "     standard_name: altitude\n",
       "     units: m\n",
       "     coordinate_defines: center\n",
       " unlimited dimensions: \n",
       " current shape = (80,)\n",
       " filling on, default _FillValue of 9.969209968386869e+36 used,\n",
       " 'time': <class 'netCDF4.Variable'>\n",
       " int64 time(time)\n",
       "     long_name: launch time\n",
       "     standard_name: launch time\n",
       "     units: seconds since 2008-01-01 00:00:00\n",
       "     calendar: gregorian\n",
       " unlimited dimensions: \n",
       " current shape = (11233,)\n",
       " filling on, default _FillValue of -9223372036854775806 used,\n",
       " 'T': <class 'netCDF4.Variable'>\n",
       " float32 T(level, time)\n",
       "     long_name: temperature\n",
       "     standard_name: atmospheric temperature\n",
       "     units: K\n",
       "     coordinate_defines: center\n",
       " unlimited dimensions: \n",
       " current shape = (80, 11233)\n",
       " filling on, default _FillValue of 9.969209968386869e+36 used}"
      ]
     },
     "execution_count": 17,
     "metadata": {},
     "output_type": "execute_result"
    }
   ],
   "source": [
    "# print the variable information to the screen\n",
    "nc.variables"
   ]
  },
  {
   "cell_type": "markdown",
   "id": "975dad42-a840-44ab-90f5-30d01c864561",
   "metadata": {},
   "source": [
    "from this we can see that the details of each variable are:\n",
    "\n",
    "| variable | dimensions              | units                             |\n",
    "|----------|-------------------------|-----------------------------------|\n",
    "| altitude | level (80)              | m                                 |\n",
    "| time     | time (11233)            | seconds since 2008-01-01 00:00:00 |\n",
    "| T        | level x time (80, 11233)| K                                 |"
   ]
  },
  {
   "cell_type": "code",
   "execution_count": 18,
   "id": "dac3a712-ccaa-4f73-aa3d-c1c07ef4d619",
   "metadata": {},
   "outputs": [],
   "source": [
    "# 4. Extract the data and close the file\n",
    "\n",
    "# alttiude (m)\n",
    "alt = nc['altitude'][:] # here we index the variable in the object called nc and select all the data with [:]\n",
    "\n",
    "# temperature (K)\n",
    "T = nc['T'][:]\n",
    "\n",
    "# time - here we extract the time in seconds since 1st Januray 2008. The netCDF4 librayy has a function called \n",
    "# num2date method which takes the date and time information held in seconds and converts it into a datetime object.\n",
    "# We don't use it here, but could if we wanted to have year,month, day, hour, minute ,second information for each sounding.\n",
    "time = nc['time'][:]\n",
    "\n",
    "# close the file\n",
    "nc.close()"
   ]
  },
  {
   "cell_type": "markdown",
   "id": "d61a6857-f14b-4367-86b8-e843eade3a47",
   "metadata": {},
   "source": [
    "##### Next lets make a simple visualisation of the data"
   ]
  },
  {
   "cell_type": "code",
   "execution_count": 41,
   "id": "9e779ddc-b05f-400f-8af9-81f3d662752b",
   "metadata": {},
   "outputs": [
    {
     "data": {
      "text/plain": [
       "Text(0.5, 1.0, 'Gruan Atmospheric Temperature Soundings ($^{\\\\circ}$C)')"
      ]
     },
     "execution_count": 41,
     "metadata": {},
     "output_type": "execute_result"
    },
    {
     "data": {
      "image/png": "[encoded data removed]",
      "text/plain": [
       "<Figure size 1500x300 with 2 Axes>"
      ]
     },
     "metadata": {},
     "output_type": "display_data"
    }
   ],
   "source": [
    "# set the figure size or dimensions\n",
    "plt.figure(figsize=(15,3))\n",
    "# plot our 2D temperature data usingthe time and alt arrays to index the different dimensions\n",
    "# convert altitudes fromm to km (*1e-3) and temperatures from K to degrees C\n",
    "plt.pcolormesh(time, alt*1e-3, T-273.15,vmin=-30, vmax=30,cmap=plt.get_cmap('coolwarm',12))\n",
    "# fix the extentof the y axis between 0 and 8 km\n",
    "plt.ylim(0,8)\n",
    "# add the label for the y axis\n",
    "plt.ylabel(\"Altitude (km)\")\n",
    "# add the label for the x axis\n",
    "plt.xlabel(\"Time (seconds since 2008-01-01 00:00:00)\")\n",
    "# add a colour bar and change the end to traiangles to indicatethat the range goes beyond the fixed range (+/- 30)\n",
    "plt.colorbar(extend='both')\n",
    "# add a title\n",
    "plt.title(r\"Gruan Atmospheric Temperature Soundings ($^{\\circ}$C)\") \n"
   ]
  },
  {
   "cell_type": "markdown",
   "id": "3524f14f-e136-4259-9a59-b7e23bd539f7",
   "metadata": {},
   "source": [
    "Next we want to calculate the environemntal lapse for each of the 11,233 profiles. To do this we write a function into which we can pass the temperatures and altitudes"
   ]
  },
  {
   "cell_type": "code",
   "execution_count": 42,
   "id": "2e2475aa-8b8c-4274-843f-4d6d08c4958a",
   "metadata": {},
   "outputs": [],
   "source": [
    "def calc_lapse_rate(Tprof, zprof):\n",
    "    \"\"\" calculate the environemntal lapse rate for a set of profiles\n",
    "    inputs Tprof -> atmospheric temperature profiles (K)\n",
    "           zprof -> altitude profile (km)\n",
    "\n",
    "    outputs laspe -> environmental lapse rate (K/km)\n",
    "    \"\"\"\n",
    "    # define an array to hold the lapse rates based on the number of profiles in the\n",
    "    # array Tprof (e.g. dimension 1)\n",
    "    nprofs = Tprof.shape[1]\n",
    "    lapse = np.full(nprofs,np.nan)\n",
    "    # loop over each profile and calculate the environmental lapse rate\n",
    "    # Note: we are assuming a constant rate between 1 and 8 km\n",
    "    for tt in range(lapse.size):\n",
    "        # select the profile and mask any missing values (e.g. NaNs)\n",
    "        x = np.ma.masked_invalid(Tprof[:,tt])\n",
    "        # apply the mak to the altitude values\n",
    "        y = np.ma.masked_array(zprof,mask=x.mask)\n",
    "        # use the compressed() method to remove all the bad values \n",
    "        x, y = x.compressed(), y.compressed()\n",
    "        # find the points above 1 km in altitude using the where function\n",
    "        find = np.where(y > 1)\n",
    "        # filter the profile and altitudes with the indexs from the where statement \n",
    "        x, y = x[find], y[find]\n",
    "        # calculate the lapse rate and store in the correct position in the output array\n",
    "        lapse[tt] = -1*((x[-1]-x[0])/(y[-1]-y[0]))\n",
    "    # return the lapse rates\n",
    "    return lapse"
   ]
  },
  {
   "cell_type": "markdown",
   "id": "a4a17e68-c209-430d-bc3f-270f7d9d3800",
   "metadata": {},
   "source": [
    "after we calculate the lapse rate what we want to do is look at the spread in the data. To do this we will calculate a Probability Density Function (PDF) using the python function defined below. **Note:** This function assumes our results have a Gaussian distribution.   "
   ]
  },
  {
   "cell_type": "code",
   "execution_count": 49,
   "id": "9cb4a7b3-cd1f-4c82-8ec7-77e117ca47ae",
   "metadata": {},
   "outputs": [],
   "source": [
    "def calculate_probDensFunc(yvals, ymin, ymax,nbins=100):\n",
    "    \"\"\" calculate a PDF from the array yvals using scipy.stats norm module\n",
    "    inputs: yvals -> 1d array of values to be used in PDF calculation\n",
    "            ymin  -> minimum value for range of yvals PDF is calculated\n",
    "            ymax  -> maximum value for range of yvals PDF is calculated\n",
    "            nbins -> number of bins for which PDF is calculated between ymin  and ymax\n",
    "            \n",
    "    outputs: xvals -> array of values over which the PDF was calculated (defined by ymin, ymax,nbins)\n",
    "             PDF   -> array containing PDF values\n",
    "    \"\"\"\n",
    "    # define xvals\n",
    "    xvals = np.linspace(ymin,ymax,nbins)\n",
    "\n",
    "    # calculate mean and standard deviation of yvals\n",
    "    mu = np.mean(yvals)\n",
    "    std = np.std(yvals)\n",
    "\n",
    "    # define an empty array to hold PDF values. Here we use the size method to tell the code how many elements \n",
    "    # are in this new array and fill each entry with a default value NaN (Not a Number)\n",
    "    PDF = np.full(xvals.size, np.nan)\n",
    "\n",
    "    # loop over each value in x and calculate the corresponding PDF value. Because xvals is an array merans in \n",
    "    # Python it is iterable (i.e. we can loop over the contents) and by wrapping it in the enumerate function\n",
    "    # we also get the index of the value (e.g. the firts value in xvals could be -2, therefore x=-2 and ii=0).\n",
    "    for ii, x in enumerate(xvals):\n",
    "        PDF[ii] = stats.norm.pdf(x, loc=mu, scale=std)\n",
    "\n",
    "    # return the results\n",
    "    return PDF, xvals"
   ]
  },
  {
   "cell_type": "markdown",
   "id": "d2aa9dea-9733-4f19-a39f-2ee77ad6c75d",
   "metadata": {},
   "source": [
    "we can now perform both calculations using the function we have defined:"
   ]
  },
  {
   "cell_type": "code",
   "execution_count": 50,
   "id": "85840f1d-dfa4-4b5f-a681-58e8cae55e94",
   "metadata": {},
   "outputs": [],
   "source": [
    "lapse_rate = calc_lapse_rate(T, alt*1e-3) # *1e-3 -> m to km  \n",
    "lapse_pdf,xvals = calculate_probDensFunc(lapse_rate, 4, 9,nbins=100)"
   ]
  },
  {
   "cell_type": "markdown",
   "id": "4a0e5162-4791-42aa-a65b-22608f809fef",
   "metadata": {},
   "source": [
    "Finally, lets plot our results:"
   ]
  },
  {
   "cell_type": "code",
   "execution_count": 61,
   "id": "4f03263a-4b08-4fc9-a090-6d05d010644a",
   "metadata": {},
   "outputs": [
    {
     "data": {
      "text/plain": [
       "Text(0.5, 1.0, 'Enviromental Lapse Rate Calculated over\\n Lindenberg (2008-2016)')"
      ]
     },
     "execution_count": 61,
     "metadata": {},
     "output_type": "execute_result"
    },
    {
     "data": {
      "image/png": "[encoded data removed]",
      "text/plain": [
       "<Figure size 600x500 with 1 Axes>"
      ]
     },
     "metadata": {},
     "output_type": "display_data"
    }
   ],
   "source": [
    "# define the figure size\n",
    "plt.figure(figsize=(6,5))\n",
    "# calculate the mean environmental lapse rate \n",
    "mu = np.mean(lapse_rate)\n",
    "# plot the PDF\n",
    "plt.plot(xvals, lapse_pdf,'-',lw=3,color=\"#00A7B5\",label=r\"$\\mu$ = \"+f\"{mu:0.2f} km/K\")\n",
    "# set x and y axis limits\n",
    "plt.xlim(4,9)\n",
    "plt.ylim(0,0.7)\n",
    "# add a legend to display the mean lapse rate value\n",
    "plt.legend(loc=1,fontsize=10) # loc = location, location 1 = top right\n",
    "# add labels to both x ans y axes\n",
    "plt.ylabel(\"PDF\",fontsize=14)\n",
    "plt.xlabel(r\"$-\\frac{dT}{dz}$ [km/K]\",fontsize=14) # the r before the \" allows us to place LaTeX syntax intot he string\n",
    "# add a title\n",
    "plt.title(\"Enviromental Lapse Rate Calculated over\\n Lindenberg (2008-2016)\",fontsize=14) # the \\n put the rest of the string on a new line"
   ]
  },
  {
   "cell_type": "markdown",
   "id": "cd943ace-6f71-4bee-934c-0b5f8d27bfdf",
   "metadata": {},
   "source": [
    "### What we can infer from this plot?\n",
    "***"
   ]
  },
  {
   "attachments": {},
   "cell_type": "markdown",
   "id": "f9e54658-17eb-4627-93c8-56795ab3b778",
   "metadata": {},
   "source": [
    "# Earth’s Temperature Structure\n",
    "![temp struct](img/temperature_structure.png)"
   ]
  },
  {
   "attachments": {},
   "cell_type": "markdown",
   "id": "2058521d-1bcd-457e-b41d-d33035bbad00",
   "metadata": {},
   "source": [
    "### Troposphere\n",
    "- Extends to 16 km in the tropics; about 10–12 km elsewhere\n",
    "- Contains ∼80% of the atmospheric mass; 50% in the lowest 5 km\n",
    "- Temperature decrease with increasing altitude, owing to cooling from infrared greenhouse gases emissions\n",
    "- Lapse rate = 6.5 K km$^{−1}$\n",
    "- Rapid and vigorous circulation"
   ]
  },
  {
   "attachments": {},
   "cell_type": "markdown",
   "id": "e2d9a1fb-56b9-4d21-8b38-8deb9a5627d9",
   "metadata": {},
   "source": [
    " ### Stratosphere\n",
    "- Extends to 50 km\n",
    "- Temperature increases with altitude; stable layer with little vertical air motion\n",
    "- Temperature increased due to absorption of UV radiation by oxygen/ozone\n",
    "- Contains ozone layer; maximum around 25 km\n",
    "- Stratopause = transition region of no temperature change"
   ]
  },
  {
   "attachments": {},
   "cell_type": "markdown",
   "id": "0edc7819-dff2-4663-bc40-9a9221d77571",
   "metadata": {},
   "source": [
    "### Mesosphere\n",
    "- Extends to about 80–90 km\n",
    "- Temperature decreases with altitude; extremely thin air loses more energy than it gains\n",
    "- This is due to decreasing solar heating and increasing cooling by CO2 radiative emissions\n",
    "- With so few molecules to scatter light, the sky is dark\n",
    "\n",
    "### Thermosphere\n",
    "- Above 100 km\n",
    "- Contains 0.01% of the atmospheric mass; highly diluted gas\n",
    "- Ionisation of gas atoms causes heating"
   ]
  },
  {
   "cell_type": "markdown",
   "id": "4f985bde-839a-420f-ba07-3d0b9162a3b8",
   "metadata": {},
   "source": [
    "## What determines atmospheric vertical structure?\n",
    "![4 factors](img/fourFactorsVertStruct.png)"
   ]
  },
  {
   "cell_type": "markdown",
   "id": "ce5e1b3f-8b81-444b-82db-f0e6aa96dd01",
   "metadata": {},
   "source": [
    "# Hydrostatic Balance"
   ]
  },
  {
   "cell_type": "markdown",
   "id": "1d68ef46-8417-4c00-8597-63377e96c0dd",
   "metadata": {},
   "source": [
    "- Air pressure at any height in the atmosphere is due to the force per unit area exerted by the weight of all of the air lying above that height. Consequently, atmospheric pressure decreases with increasing height above the ground.\n",
    "- The net upward force acting on a thin horizontal slab of air, due to the decrease in atmospheric pressure with height, is generally very closely in balance with the downward force due to gravitational attraction that acts on the slab.\n",
    "- If the net upward pressure force on the slab is equal to the downward force of gravity on the slab, the atmosphere is said to be in hydrostatic balance."
   ]
  },
  {
   "cell_type": "markdown",
   "id": "9c5f5b97-32c9-49c3-b4f4-ea94867a291e",
   "metadata": {},
   "source": [
    "![hydrostatic balance image](img/hydrostaticBalance.png)"
   ]
  },
  {
   "attachments": {},
   "cell_type": "markdown",
   "id": "6a3362a5-14d5-4841-8278-36e81b205699",
   "metadata": {},
   "source": [
    "- For no net acceleration we can equate forces:\n",
    "\n",
    "### $\\rho gdz + p(z+dz)$\n",
    "\n",
    "- Rearranging and letting the limit $dz \\rightarrow 0$\n",
    "\n",
    "### $\\frac{dp}{dz} = -\\rho g$\n",
    "\n",
    "This is the  <span style=\"color:blue\">**hydrostatic equation**</span>, the negative sign ensures that the pressure decreases withincreasing height.\n"
   ]
  },
  {
   "cell_type": "markdown",
   "id": "ef8e2543-a680-4eca-8eae-ff5aac6f2348",
   "metadata": {},
   "source": [
    "![% of atm frac of pres](img/atm_pres.png)"
   ]
  },
  {
   "attachments": {},
   "cell_type": "markdown",
   "id": "f0a9e35e-852c-4015-9f8f-76b2e1b825d2",
   "metadata": {},
   "source": [
    "## Atmospheric Pressure\n",
    "- The atmosphere is a compressible fluid\n",
    "- This means the volume of a unit mass depends on the pressure exerted on it\n",
    "- Or, the density of a gas changes as the pressure on it increases\n",
    "- Pressure & density decrease exponentially with increasing altitude\n",
    "- This pressure decrease affects key processes such as:\n",
    "\t1. Atmospheric stability\n",
    "\t2. Distribution of trace gases\n",
    "\t3. Clouds & rainfall\n",
    "- Standard sea-level pressure (i.e at the surface) is 1013.25 hPa (= 1013.25 mbar)\n",
    "Note: 1 hPa = 100 Pa = 100 N m−2\n"
   ]
  },
  {
   "attachments": {},
   "cell_type": "markdown",
   "id": "70965076-6efe-4c4a-85c6-63a284bda207",
   "metadata": {},
   "source": [
    "***\n",
    "## Case 1: Constant Density Atmosphere"
   ]
  },
  {
   "cell_type": "markdown",
   "id": "d712b96c-7da6-4e8d-b34c-0f10d119669f",
   "metadata": {},
   "source": [
    "![example 1;constant dens](img/case_one_const_dens.png)"
   ]
  },
  {
   "attachments": {},
   "cell_type": "markdown",
   "id": "013caab9-e11d-44c7-a060-0118397750ed",
   "metadata": {},
   "source": [
    "***\n",
    "## Case 2: Isothermal Atmosphere ($\\Delta T$=0)"
   ]
  },
  {
   "cell_type": "markdown",
   "id": "a033a3bd-d875-4c9e-ae4b-9838fa1851c2",
   "metadata": {},
   "source": [
    "![case 2, isothermal](img/case_two_isotherm.png)"
   ]
  },
  {
   "cell_type": "markdown",
   "id": "26c208b5-2579-437e-8638-0394dd782eec",
   "metadata": {},
   "source": [
    "## Atmospheric Scale Heights"
   ]
  },
  {
   "cell_type": "markdown",
   "id": "251ed719-8c23-492f-8bd6-c4181e386416",
   "metadata": {},
   "source": [
    "| Parameter                        | Venus | Earth | Mars | Titan | Jupiter | Saturn | Uranus | Neptune |\n",
    "|----------------------------------|-------|-------|------|-------|---------|--------|--------|---------|\n",
    "| Solar constant (W/m$^{2}$)       | 2620  | 1380  | 594  | 15.6  | 50.5    | 14.9   | 3.7    | 1.5     |\n",
    "| Obliquity (°)                    | 177   | 23.4  | 24.0 | (27)  | 3.1     | 26.7   | 98     | 28.3    |\n",
    "| Orbital period (years)           | 0.62  | 1     | 1.88 | (29.4)| 11.9    | 29.4   | 84     | 165     |\n",
    "| Rotation period (hours)          | 5832  | 24    | 24.6 | 383   | 9.9     | 10.7   | 17.2   | 16.1    |\n",
    "| Planetary albedo $\\alpha$              | 0.76  | 0.4   | 0.15 | 0.3   | 0.34    | 0.34   | 0.3    | 0.29    |\n",
    "| Molecular weight $\\mu$ (g/mol) | 43    | 29    | 43   | 29    | 2.2     | 2.1    | 2.6    | 2.6     |\n",
    "| T$_{\\text{surface}}$ or T$_{\\text{1bar}}$ (K) | 730   | 288   | 220  | 95    | 165     | 134    | 76     | 72      |\n",
    "| Surface pressure (bar)           | 92    | 1     | 0.007| 1.47  | n/a     | n/a    | n/a    | n/a     |\n",
    "| $g$ (m/s$^{2}$)              | 8.9   | 9.8   | 3.7  | 1.35  | 24.2    | 10.0   | 8.8    | 11.1    |\n",
    "| T$_{\\text{eq}}$ (K)          | 229   | 245   | 217  | 83    | 113     | 84     | 60     | 48      |\n",
    "| Scale height $H$ (km)        | 15    | 8.5   | 12   | 23    | 27      | 60     | 28     | 20      |\n",
    "| Radius (km)                      | 6052  | 6370  | 3390 | 2575  | 71,500  | 60,300 | 25,000 | 24,800  |\n",
    "| Mass (10$^{24}$ kg)              | 4.87  | 5.97  | 0.64 | 0.13  | 1900    | 568    | 87     | 102     |\n"
   ]
  },
  {
   "cell_type": "markdown",
   "id": "07eae9e3-c4e0-4996-9b19-53ced5cd024c",
   "metadata": {},
   "source": [
    "* Isothermal scale height is the distance at which the pressure changes by 1/e\n",
    "* Oddly, the scale heights of the atmospheres for terrestrial and giant planets are not hugely different in size, even though densities, pressures, temperatures and masses differ by orders of magnitude\n",
    "* Isothermal height depends on composition as well as gravity\n"
   ]
  },
  {
   "attachments": {},
   "cell_type": "markdown",
   "id": "d5eb6bf1-ad61-432b-beb7-d3a1846dca07",
   "metadata": {},
   "source": [
    "***\n",
    "## Breakdown of Barometric Law"
   ]
  },
  {
   "cell_type": "markdown",
   "id": "adda1886-f827-48a9-9273-cb4543ee99f0",
   "metadata": {},
   "source": [
    "![barometric breakdown](img/barometricBreakdown.png)"
   ]
  },
  {
   "cell_type": "markdown",
   "id": "148f38e4-e6ce-47be-a2f9-c42f8568bf11",
   "metadata": {},
   "source": [
    "***\n",
    "![pressure key point](img/pressureKeyPoints.png)"
   ]
  },
  {
   "cell_type": "markdown",
   "id": "6d5e0cd9-88d9-4038-aeac-d1d8037892ee",
   "metadata": {},
   "source": [
    "* Isothermal scale height ignores possibility that temperature could vary with z\n",
    "* To get a better pressure ‘model’ we must consider the thermal structure\n",
    "### Recall from lecture 4"
   ]
  },
  {
   "cell_type": "markdown",
   "id": "7c54e6c9-19de-49ef-8180-a844032fab4a",
   "metadata": {},
   "source": [
    "![contant lapse rate?](img/constLapseRate.png)"
   ]
  },
  {
   "attachments": {},
   "cell_type": "markdown",
   "id": "e0b63fc9-dacc-4d65-aec1-e83ae7389a7f",
   "metadata": {},
   "source": [
    "The reality is we must consider a piece-wise atmosphere (differences between adjacent layers) in order to have a better model of thermal structure. So what influences thermal structure?\n",
    "- Solar energy: the top of the atmosphere (TOA) is irradiated by the Sun, whose radiation is absorbed and scattered\n",
    "- Surface thermal energy: at the bottom of the atmosphere (BOA) from re-radiation of absorbed sunlight (& internal heat sources)\n",
    "- Changes in chemical structure and composition affect opacity and so thermal structure (e.g., the greenhouse effect), with some chemical reactions are dependent upon pressure as well as temperature\n",
    "- Composition changed by surface sources and atmospheric chemistry\n",
    "- Clouds, dust and among also change the opacity and also release energy\n",
    "\n",
    "Another concept we need to consider is the air parcel. An air parcel is considered an ‘isolated’ air volume which can freely expand or contract but there is no exchange of heat (adiabatic process) and/or molecules with surrounding environment.\n",
    "- A rising air parcel is surrounded by less dense air, consequently air parcel expands & does work on surroundings (parcel loses energy and therefore it <span style=\"color:blue\">cools</span>)\n",
    "- A falling air parcel is surrounded by denser air, consequently air parcel contracts & surrounding air does work (parcel gains energy and therefore it <span style=\"color:red\">warms</span>)\n"
   ]
  },
  {
   "cell_type": "markdown",
   "id": "6a686859-e66c-473d-b51b-cd13a0ee0cc0",
   "metadata": {},
   "source": [
    "![air parcel](img/airParcel.png)"
   ]
  },
  {
   "attachments": {},
   "cell_type": "markdown",
   "id": "af8b9fa2-04ae-451a-bc96-60452ef480ef",
   "metadata": {},
   "source": [
    "- Convection is the process of vertical heat transfer through vertical mass exchange, driven by buoyancy\n",
    "- Convection is determined by the vertical movement of fluid parcels\n",
    "- Buoyancy is governed by the density difference be- tween the parcel and the surrounding environment\n",
    "- Density differences are governed by temperature of the parcel relative to the surrounding environmental temperature (since atmospheric pressure is roughly the same horizontally and density varies inversely with temperature)\n",
    "- If a parcel is <span style=\"color:red\">warmer</span> than its surroundings it will rise\n",
    "- If a parcel is <span style=\"color:blue\">cooler</span> than its surroundings it will sink\n",
    "- Convection is complicated owing air’s compressibility & variations pressure, density, and temperature\n",
    "- To understand convection we need to consider the ideal gas equation, hydrostatic balance & the first law of thermodynamics\n"
   ]
  },
  {
   "attachments": {},
   "cell_type": "markdown",
   "id": "d884450f-c329-464a-a3c0-87649d437d3d",
   "metadata": {},
   "source": [
    "## The Dry Adiabatic Lapse Rate"
   ]
  },
  {
   "cell_type": "markdown",
   "id": "1e374899-3fe2-41de-9604-ebebd6e72270",
   "metadata": {},
   "source": [
    "![dry lapse rate](img/dryAdiabaticLapseRate.png)"
   ]
  },
  {
   "attachments": {},
   "cell_type": "markdown",
   "id": "351c53a8-0190-4cdf-85ab-e336bc513854",
   "metadata": {},
   "source": [
    "- Real lapse rate is smaller than $\\Gamma_{dry}$\n",
    "- This mainly is because moisture is present in the atmosphere, as moisture condenses latent heat (lecture 4) is released\n",
    "![latent heat stability](img/latentHeatStability.png)"
   ]
  },
  {
   "cell_type": "markdown",
   "id": "ac96e531-0888-4f54-9f1e-dbab27e18c42",
   "metadata": {},
   "source": [
    "***\n",
    "## Pseudo-Adiabatic (or Moist) Lapse Rate"
   ]
  },
  {
   "cell_type": "markdown",
   "id": "1007b50f-ca5c-4e96-a18d-75487dc00849",
   "metadata": {},
   "source": [
    "![moist lapse rate](img/moistLapseRate.png)"
   ]
  },
  {
   "cell_type": "markdown",
   "id": "1d00b199-755b-4935-9b98-4055030760d5",
   "metadata": {},
   "source": [
    "***\n",
    "![conditional stability](img/condStability.png)"
   ]
  },
  {
   "cell_type": "markdown",
   "id": "76f2968d-225d-40cb-bc47-76b526848734",
   "metadata": {},
   "source": [
    "***\n",
    "![deep convection](img/deepConvection.png)"
   ]
  },
  {
   "attachments": {},
   "cell_type": "markdown",
   "id": "c21e710e-7501-44c2-9433-132047898c2e",
   "metadata": {},
   "source": [
    "## Exersise 2: Example Adiabats"
   ]
  },
  {
   "cell_type": "markdown",
   "id": "66be0207-ecd2-4dca-8720-676bfc7d9a09",
   "metadata": {},
   "source": [
    "![radisonde launch](img/balloonLaunchNottingham.png)\n",
    "\n",
    "In this exersise we are going to look at three example profiles from radiosonde measurments made at the Met Office observation site at Nottingham Watnall (WMO id 03354). The station is located 117m above mean sea level in Nottinghamshire, east UK (https://www.youtube.com/watch?v=Su8Bhp3XEY4). The details for each launch are stored in the following files:"
   ]
  },
  {
   "cell_type": "code",
   "execution_count": 78,
   "id": "38daf55f-a3d3-4937-b51c-1b3f08f0a72a",
   "metadata": {},
   "outputs": [],
   "source": [
    "# define full paths to radiosnde soundings over Nottingham Watnall site\n",
    "file1 = \"data/Nottingham2020.txt\"\n",
    "file2 = \"data/Nottingham2022.txt\"\n",
    "file3 = \"data/Nottingham2024.txt\""
   ]
  },
  {
   "cell_type": "markdown",
   "id": "b4f164e1-5d19-4be3-88a6-fbc3f2a986aa",
   "metadata": {},
   "source": [
    "you will notice the foramt for these files is ```.txt``` which means they are human readable. If ou double click on one of the files you can see it will open in a neighbouring tab:\n",
    "![txt file contents example](img/file_contents_example.png)"
   ]
  },
  {
   "cell_type": "markdown",
   "id": "83ce36c6-46a3-4e46-a515-ebe0a8c4da30",
   "metadata": {},
   "source": [
    "from the file header we can see these files contain the following information:\n",
    "\n",
    "| Variable | Long Name                          | Units       |\n",
    "|----------|-----------------------------------|------------|\n",
    "| PRES     | Pressure                          | hPa        |\n",
    "| HGHT     | Height                            | m          |\n",
    "| TEMP     | Temperature                       | °C         |\n",
    "| DWPT     | Dew Point Temperature             | °C         |\n",
    "| RELH     | Relative Humidity                 | %          |\n",
    "| MIXR     | Mixing Ratio                      | g/kg       |\n",
    "| DRCT     | Wind Direction                    | degrees    |\n",
    "| SKNT     | Wind Speed                        | knots      |\n",
    "| THTA     | Potential Temperature             | K          |\n",
    "| THTE     | Equivalent Potential Temperature  | K          |\n",
    "| THTV     | Virtual Potential Temperature     | K          |"
   ]
  },
  {
   "cell_type": "markdown",
   "id": "7b014c88-b2fc-45ee-a34d-6dd57a5e207c",
   "metadata": {},
   "source": [
    "lets create a function to read in the file and extract the height and temperature profile information. For this function we will make use of the <span style=\"color:blue\">np.loadtxt</span> method. If we want to know more about a method from a library in Python we can use the ```help``` command"
   ]
  },
  {
   "cell_type": "code",
   "execution_count": 79,
   "id": "6982b55e-c443-4776-b0ab-ac0c2acb1034",
   "metadata": {},
   "outputs": [
    {
     "name": "stdout",
     "output_type": "stream",
     "text": [
      "Help on function loadtxt in module numpy:\n",
      "\n",
      "loadtxt(fname, dtype=<class 'float'>, comments='#', delimiter=None, converters=None, skiprows=0, usecols=None, unpack=False, ndmin=0, encoding=None, max_rows=None, *, quotechar=None, like=None)\n",
      "    Load data from a text file.\n",
      "    \n",
      "    Parameters\n",
      "    ----------\n",
      "    fname : file, str, pathlib.Path, list of str, generator\n",
      "        File, filename, list, or generator to read.  If the filename\n",
      "        extension is ``.gz`` or ``.bz2``, the file is first decompressed. Note\n",
      "        that generators must return bytes or strings. The strings\n",
      "        in a list or produced by a generator are treated as lines.\n",
      "    dtype : data-type, optional\n",
      "        Data-type of the resulting array; default: float.  If this is a\n",
      "        structured data-type, the resulting array will be 1-dimensional, and\n",
      "        each row will be interpreted as an element of the array.  In this\n",
      "        case, the number of columns used must match the number of fields in\n",
      "        the data-type.\n",
      "    comments : str or sequence of str or None, optional\n",
      "        The characters or list of characters used to indicate the start of a\n",
      "        comment. None implies no comments. For backwards compatibility, byte\n",
      "        strings will be decoded as 'latin1'. The default is '#'.\n",
      "    delimiter : str, optional\n",
      "        The character used to separate the values. For backwards compatibility,\n",
      "        byte strings will be decoded as 'latin1'. The default is whitespace.\n",
      "    \n",
      "        .. versionchanged:: 1.23.0\n",
      "           Only single character delimiters are supported. Newline characters\n",
      "           cannot be used as the delimiter.\n",
      "    \n",
      "    converters : dict or callable, optional\n",
      "        Converter functions to customize value parsing. If `converters` is\n",
      "        callable, the function is applied to all columns, else it must be a\n",
      "        dict that maps column number to a parser function.\n",
      "        See examples for further details.\n",
      "        Default: None.\n",
      "    \n",
      "        .. versionchanged:: 1.23.0\n",
      "           The ability to pass a single callable to be applied to all columns\n",
      "           was added.\n",
      "    \n",
      "    skiprows : int, optional\n",
      "        Skip the first `skiprows` lines, including comments; default: 0.\n",
      "    usecols : int or sequence, optional\n",
      "        Which columns to read, with 0 being the first. For example,\n",
      "        ``usecols = (1,4,5)`` will extract the 2nd, 5th and 6th columns.\n",
      "        The default, None, results in all columns being read.\n",
      "    unpack : bool, optional\n",
      "        If True, the returned array is transposed, so that arguments may be\n",
      "        unpacked using ``x, y, z = loadtxt(...)``.  When used with a\n",
      "        structured data-type, arrays are returned for each field.\n",
      "        Default is False.\n",
      "    ndmin : int, optional\n",
      "        The returned array will have at least `ndmin` dimensions.\n",
      "        Otherwise mono-dimensional axes will be squeezed.\n",
      "        Legal values: 0 (default), 1 or 2.\n",
      "    encoding : str, optional\n",
      "        Encoding used to decode the inputfile. Does not apply to input streams.\n",
      "        The special value 'bytes' enables backward compatibility workarounds\n",
      "        that ensures you receive byte arrays as results if possible and passes\n",
      "        'latin1' encoded strings to converters. Override this value to receive\n",
      "        unicode arrays and pass strings as input to converters.  If set to None\n",
      "        the system default is used. The default value is 'bytes'.\n",
      "    \n",
      "        .. versionchanged:: 2.0\n",
      "            Before NumPy 2, the default was ``'bytes'`` for Python 2\n",
      "            compatibility. The default is now ``None``.\n",
      "    \n",
      "    max_rows : int, optional\n",
      "        Read `max_rows` rows of content after `skiprows` lines. The default is\n",
      "        to read all the rows. Note that empty rows containing no data such as\n",
      "        empty lines and comment lines are not counted towards `max_rows`,\n",
      "        while such lines are counted in `skiprows`.\n",
      "    \n",
      "        .. versionchanged:: 1.23.0\n",
      "            Lines containing no data, including comment lines (e.g., lines\n",
      "            starting with '#' or as specified via `comments`) are not counted\n",
      "            towards `max_rows`.\n",
      "    quotechar : unicode character or None, optional\n",
      "        The character used to denote the start and end of a quoted item.\n",
      "        Occurrences of the delimiter or comment characters are ignored within\n",
      "        a quoted item. The default value is ``quotechar=None``, which means\n",
      "        quoting support is disabled.\n",
      "    \n",
      "        If two consecutive instances of `quotechar` are found within a quoted\n",
      "        field, the first is treated as an escape character. See examples.\n",
      "    \n",
      "        .. versionadded:: 1.23.0\n",
      "    like : array_like, optional\n",
      "        Reference object to allow the creation of arrays which are not\n",
      "        NumPy arrays. If an array-like passed in as ``like`` supports\n",
      "        the ``__array_function__`` protocol, the result will be defined\n",
      "        by it. In this case, it ensures the creation of an array object\n",
      "        compatible with that passed in via this argument.\n",
      "    \n",
      "        .. versionadded:: 1.20.0\n",
      "    \n",
      "    Returns\n",
      "    -------\n",
      "    out : ndarray\n",
      "        Data read from the text file.\n",
      "    \n",
      "    See Also\n",
      "    --------\n",
      "    load, fromstring, fromregex\n",
      "    genfromtxt : Load data with missing values handled as specified.\n",
      "    scipy.io.loadmat : reads MATLAB data files\n",
      "    \n",
      "    Notes\n",
      "    -----\n",
      "    This function aims to be a fast reader for simply formatted files.  The\n",
      "    `genfromtxt` function provides more sophisticated handling of, e.g.,\n",
      "    lines with missing values.\n",
      "    \n",
      "    Each row in the input text file must have the same number of values to be\n",
      "    able to read all values. If all rows do not have same number of values, a\n",
      "    subset of up to n columns (where n is the least number of values present\n",
      "    in all rows) can be read by specifying the columns via `usecols`.\n",
      "    \n",
      "    The strings produced by the Python float.hex method can be used as\n",
      "    input for floats.\n",
      "    \n",
      "    Examples\n",
      "    --------\n",
      "    >>> import numpy as np\n",
      "    >>> from io import StringIO   # StringIO behaves like a file object\n",
      "    >>> c = StringIO(\"0 1\\n2 3\")\n",
      "    >>> np.loadtxt(c)\n",
      "    array([[0., 1.],\n",
      "           [2., 3.]])\n",
      "    \n",
      "    >>> d = StringIO(\"M 21 72\\nF 35 58\")\n",
      "    >>> np.loadtxt(d, dtype={'names': ('gender', 'age', 'weight'),\n",
      "    ...                      'formats': ('S1', 'i4', 'f4')})\n",
      "    array([(b'M', 21, 72.), (b'F', 35, 58.)],\n",
      "          dtype=[('gender', 'S1'), ('age', '<i4'), ('weight', '<f4')])\n",
      "    \n",
      "    >>> c = StringIO(\"1,0,2\\n3,0,4\")\n",
      "    >>> x, y = np.loadtxt(c, delimiter=',', usecols=(0, 2), unpack=True)\n",
      "    >>> x\n",
      "    array([1., 3.])\n",
      "    >>> y\n",
      "    array([2., 4.])\n",
      "    \n",
      "    The `converters` argument is used to specify functions to preprocess the\n",
      "    text prior to parsing. `converters` can be a dictionary that maps\n",
      "    preprocessing functions to each column:\n",
      "    \n",
      "    >>> s = StringIO(\"1.618, 2.296\\n3.141, 4.669\\n\")\n",
      "    >>> conv = {\n",
      "    ...     0: lambda x: np.floor(float(x)),  # conversion fn for column 0\n",
      "    ...     1: lambda x: np.ceil(float(x)),  # conversion fn for column 1\n",
      "    ... }\n",
      "    >>> np.loadtxt(s, delimiter=\",\", converters=conv)\n",
      "    array([[1., 3.],\n",
      "           [3., 5.]])\n",
      "    \n",
      "    `converters` can be a callable instead of a dictionary, in which case it\n",
      "    is applied to all columns:\n",
      "    \n",
      "    >>> s = StringIO(\"0xDE 0xAD\\n0xC0 0xDE\")\n",
      "    >>> import functools\n",
      "    >>> conv = functools.partial(int, base=16)\n",
      "    >>> np.loadtxt(s, converters=conv)\n",
      "    array([[222., 173.],\n",
      "           [192., 222.]])\n",
      "    \n",
      "    This example shows how `converters` can be used to convert a field\n",
      "    with a trailing minus sign into a negative number.\n",
      "    \n",
      "    >>> s = StringIO(\"10.01 31.25-\\n19.22 64.31\\n17.57- 63.94\")\n",
      "    >>> def conv(fld):\n",
      "    ...     return -float(fld[:-1]) if fld.endswith(\"-\") else float(fld)\n",
      "    ...\n",
      "    >>> np.loadtxt(s, converters=conv)\n",
      "    array([[ 10.01, -31.25],\n",
      "           [ 19.22,  64.31],\n",
      "           [-17.57,  63.94]])\n",
      "    \n",
      "    Using a callable as the converter can be particularly useful for handling\n",
      "    values with different formatting, e.g. floats with underscores:\n",
      "    \n",
      "    >>> s = StringIO(\"1 2.7 100_000\")\n",
      "    >>> np.loadtxt(s, converters=float)\n",
      "    array([1.e+00, 2.7e+00, 1.e+05])\n",
      "    \n",
      "    This idea can be extended to automatically handle values specified in\n",
      "    many different formats, such as hex values:\n",
      "    \n",
      "    >>> def conv(val):\n",
      "    ...     try:\n",
      "    ...         return float(val)\n",
      "    ...     except ValueError:\n",
      "    ...         return float.fromhex(val)\n",
      "    >>> s = StringIO(\"1, 2.5, 3_000, 0b4, 0x1.4000000000000p+2\")\n",
      "    >>> np.loadtxt(s, delimiter=\",\", converters=conv)\n",
      "    array([1.0e+00, 2.5e+00, 3.0e+03, 1.8e+02, 5.0e+00])\n",
      "    \n",
      "    Or a format where the ``-`` sign comes after the number:\n",
      "    \n",
      "    >>> s = StringIO(\"10.01 31.25-\\n19.22 64.31\\n17.57- 63.94\")\n",
      "    >>> conv = lambda x: -float(x[:-1]) if x.endswith(\"-\") else float(x)\n",
      "    >>> np.loadtxt(s, converters=conv)\n",
      "    array([[ 10.01, -31.25],\n",
      "           [ 19.22,  64.31],\n",
      "           [-17.57,  63.94]])\n",
      "    \n",
      "    Support for quoted fields is enabled with the `quotechar` parameter.\n",
      "    Comment and delimiter characters are ignored when they appear within a\n",
      "    quoted item delineated by `quotechar`:\n",
      "    \n",
      "    >>> s = StringIO('\"alpha, #42\", 10.0\\n\"beta, #64\", 2.0\\n')\n",
      "    >>> dtype = np.dtype([(\"label\", \"U12\"), (\"value\", float)])\n",
      "    >>> np.loadtxt(s, dtype=dtype, delimiter=\",\", quotechar='\"')\n",
      "    array([('alpha, #42', 10.), ('beta, #64',  2.)],\n",
      "          dtype=[('label', '<U12'), ('value', '<f8')])\n",
      "    \n",
      "    Quoted fields can be separated by multiple whitespace characters:\n",
      "    \n",
      "    >>> s = StringIO('\"alpha, #42\"       10.0\\n\"beta, #64\" 2.0\\n')\n",
      "    >>> dtype = np.dtype([(\"label\", \"U12\"), (\"value\", float)])\n",
      "    >>> np.loadtxt(s, dtype=dtype, delimiter=None, quotechar='\"')\n",
      "    array([('alpha, #42', 10.), ('beta, #64',  2.)],\n",
      "          dtype=[('label', '<U12'), ('value', '<f8')])\n",
      "    \n",
      "    Two consecutive quote characters within a quoted field are treated as a\n",
      "    single escaped character:\n",
      "    \n",
      "    >>> s = StringIO('\"Hello, my name is \"\"Monty\"\"!\"')\n",
      "    >>> np.loadtxt(s, dtype=\"U\", delimiter=\",\", quotechar='\"')\n",
      "    array('Hello, my name is \"Monty\"!', dtype='<U26')\n",
      "    \n",
      "    Read subset of columns when all rows do not contain equal number of values:\n",
      "    \n",
      "    >>> d = StringIO(\"1 2\\n2 4\\n3 9 12\\n4 16 20\")\n",
      "    >>> np.loadtxt(d, usecols=(0, 1))\n",
      "    array([[ 1.,  2.],\n",
      "           [ 2.,  4.],\n",
      "           [ 3.,  9.],\n",
      "           [ 4., 16.]])\n",
      "\n"
     ]
    }
   ],
   "source": [
    "help(np.loadtxt)"
   ]
  },
  {
   "cell_type": "markdown",
   "id": "708115d7-82d6-4544-94c2-570495fbde0d",
   "metadata": {},
   "source": [
    "lets write our function ..."
   ]
  },
  {
   "cell_type": "code",
   "execution_count": 80,
   "id": "15c8eb00-0416-4c6f-9d9b-365b9c8ebd28",
   "metadata": {},
   "outputs": [],
   "source": [
    "def read_in_radiosonde_profile(filename):\n",
    "    \"\"\" read in radiosonde text files from University of Wyoming archive.\n",
    "    inputs: filename -> full path to file\n",
    "\n",
    "    outputs: hght    -> radiosonde altitude profile (km)\n",
    "             temp    -> radisonde temperature profile (K)\n",
    "    \"\"\"\n",
    "    # read in data skipping the first 4 rows as this contains the header information \n",
    "    data = np.loadtxt(filename,skiprows=4)\n",
    "\n",
    "    # extract altitude information and convert units\n",
    "    HGHT = data[:,1]*1e-3 # m to km\n",
    "    # extract the temperature profile information\n",
    "    TEMP = data[:,2]\n",
    "    # create a mask for any bad/missing data points\n",
    "    bad = (HGHT == -999)|(TEMP == -999)\n",
    "    # mask and remove bad data points using .compressed()\n",
    "    hght = np.ma.masked_array(HGHT,mask=bad).compressed()\n",
    "    temp = np.ma.masked_array(TEMP,mask=bad).compressed()\n",
    "\n",
    "    return hght, temp"
   ]
  },
  {
   "cell_type": "markdown",
   "id": "f5a31e25-c81d-4d9a-98df-e6b8e4de1fcb",
   "metadata": {},
   "source": [
    "Now we have the method to read in the data let read in all three profiles and store them as variables"
   ]
  },
  {
   "cell_type": "code",
   "execution_count": 81,
   "id": "2a3b3e27-4f76-42c2-a982-b672442ac677",
   "metadata": {},
   "outputs": [],
   "source": [
    "# read in filename 1 (2020)\n",
    "alts1, tmp1 = read_in_radiosonde_profile(file1)\n",
    "# read in filename 2 (2022)\n",
    "alts2, tmp2 = read_in_radiosonde_profile(file2)\n",
    "# read in filename 3 (2024)\n",
    "alts3, tmp3 = read_in_radiosonde_profile(file3)"
   ]
  },
  {
   "cell_type": "markdown",
   "id": "5ae8b546-574c-48b5-b611-0a8c931102d6",
   "metadata": {},
   "source": [
    "We want to plot these results using a multipanel plot so we can compre them side-by-side. Therefore, we need to create a generic plotting finction which we can reuse for each profile"
   ]
  },
  {
   "cell_type": "code",
   "execution_count": 85,
   "id": "b2b09eff-765e-4ae9-a8e3-2f764a8f0349",
   "metadata": {},
   "outputs": [],
   "source": [
    "def plot_temp_profile(alts, tmp):\n",
    "    \"\"\" generic profile plotting code\n",
    "    inputs: alts -> altitude profile (km)\n",
    "            tmp  -> temperature profile (K)\n",
    "\n",
    "    outputs: plot including moist and dry lapse rate adiabats\n",
    "    \"\"\"\n",
    "    # first calculate the moist and dry lapse rate profiles\n",
    "    T0 = tmp[0] # take the near-surface air temperature value\n",
    "    # calculate the upper temperature value based on a constant moist lapse rate\n",
    "    T1 = T0 -((alts[-1]-alts[0])*6.5)\n",
    "    # calculate the upper temperature value based on a constant dry adiabatic lapse rate\n",
    "    T2 = T0 -((alts[-1]-alts[0])*9.8)\n",
    "    # plot lapse rate lines\n",
    "    plt.plot([T0, T1], [0,alts[-1]],'--',color='k',label='Moist Lapse Rate')\n",
    "    plt.plot([T0, T2], [0,alts[-1]],':', color='k',label='Dry Adiabatic Lapse Rate')\n",
    "    # plot temperature profile\n",
    "    plt.plot(tmp,alts,color='r', label='Atmospheric Temperature')\n",
    "    # set limits for x and y axes\n",
    "    plt.ylim(0,15)\n",
    "    plt.xlim(-75,50)\n",
    "    # add labels for x and y axes\n",
    "    plt.ylabel(\"Altitude (km)\")\n",
    "    plt.xlabel(r\"Temperature ($^{\\circ}$C)\")\n",
    "    # add major grid lines\n",
    "    plt.grid(True)\n",
    "    # add a legend\n",
    "    plt.legend(loc='best',fontsize=10)"
   ]
  },
  {
   "cell_type": "markdown",
   "id": "c4c362b4-3185-4aa4-9e4e-34b2068cacde",
   "metadata": {},
   "source": [
    "now we make our multipanel plot using ```plt.subplot()```, where the numbers in the parentheses represent the (number of rows, number of columns, plot number). We plot each profile using the <span style=\"color:blue\">plot_temp_profile()</span> function above, adding a title as we go to distinquish between the different profiles"
   ]
  },
  {
   "cell_type": "code",
   "execution_count": 86,
   "id": "6f22f602-be3e-435f-99dd-51c87e40750e",
   "metadata": {},
   "outputs": [
    {
     "data": {
      "image/png": "[encoded data removed]",
      "text/plain": [
       "<Figure size 1300x400 with 3 Axes>"
      ]
     },
     "metadata": {},
     "output_type": "display_data"
    }
   ],
   "source": [
    "# set the plot size\n",
    "plt.figure(figsize=(13,4))\n",
    "\n",
    "# first plot, filename 1 (2020)\n",
    "plt.subplot(131)\n",
    "plot_temp_profile(alts1, tmp1)\n",
    "plt.title(\"Case A: Nottingham 2020\")\n",
    "\n",
    "# second plot, filename 2 (2022)\n",
    "plt.subplot(132)\n",
    "plot_temp_profile(alts2, tmp2)\n",
    "plt.title(\"Case B: Nottingham 2022\")\n",
    "\n",
    "# third plot, filename 3 (2024)\n",
    "plt.subplot(133)\n",
    "plot_temp_profile(alts3, tmp3)\n",
    "plt.title(\"Case C: Nottingham 2024\")\n",
    "\n",
    "# optimise white space around plots\n",
    "plt.tight_layout()"
   ]
  },
  {
   "cell_type": "markdown",
   "id": "30ba9ac8-a1ff-4a38-a1ce-97525ae88dc8",
   "metadata": {},
   "source": [
    "### what can we infer from these plots?\n",
    "\n",
    "| Case | Absolutely Unstable | Conditionally Unstable | Stable | Absolutely Stable |\n",
    "|------|---------------------|----------------------|----------|-------------------|\n",
    "| A    |                     |                      | &#9989;  |                   |\n",
    "| B    |                     |          &#9989;     |          |                   |\n",
    "| C    |                     |                      |          | &#9989;           |\n",
    " \n"
   ]
  },
  {
   "cell_type": "markdown",
   "id": "7bc63a93-07cf-4c5c-ae9f-dc0423ce9d65",
   "metadata": {},
   "source": [
    "***\n",
    "# **How is this information used by meterologists?**"
   ]
  },
  {
   "cell_type": "markdown",
   "id": "53a8dfd8-1fad-48de-bb00-00471d2df4d0",
   "metadata": {},
   "source": [
    "***\n",
    "![atmos stability tephigram](img/tephigram_1.png)"
   ]
  },
  {
   "cell_type": "markdown",
   "id": "4050d8f8-5de3-4bb4-bd53-fce6c5cffa80",
   "metadata": {},
   "source": [
    "***\n",
    "![atmos stability tephigram](img/tephigram_2.png)"
   ]
  },
  {
   "cell_type": "markdown",
   "id": "9a989040-2b4e-48fb-826f-bf5c0e7e3a57",
   "metadata": {},
   "source": [
    "***\n",
    "![atmos stability tephigram](img/tephigram_3.png)"
   ]
  },
  {
   "cell_type": "markdown",
   "id": "5edba7e4-3529-4fca-8197-b48aba24244d",
   "metadata": {},
   "source": [
    "***\n",
    "![atmos stability tephigram](img/tephigram_4.png)"
   ]
  },
  {
   "cell_type": "markdown",
   "id": "16f2f0ed-af7f-4892-860e-f741db88a9ae",
   "metadata": {},
   "source": [
    "***\n",
    "![atmos stability tephigram](img/tephigram_5.png)"
   ]
  },
  {
   "cell_type": "markdown",
   "id": "1a6b4f29-1537-460f-99b7-c1ec11b42bc7",
   "metadata": {},
   "source": [
    "***\n",
    "![](img/radConvModels.png)"
   ]
  },
  {
   "cell_type": "markdown",
   "id": "72075b29-0647-4591-af57-c02bd1770686",
   "metadata": {},
   "source": [
    "***\n",
    "![](img/radConvEqual.png)"
   ]
  },
  {
   "cell_type": "markdown",
   "id": "2e4f0ee6-dcf6-4e0e-bd67-c0fb79b310c4",
   "metadata": {},
   "source": [
    "***\n",
    "![](img/radConvAbsorb.png)"
   ]
  },
  {
   "cell_type": "markdown",
   "id": "3b11d56f-b702-4b79-a051-8d1945dd2377",
   "metadata": {},
   "source": [
    "***\n",
    "![](img/atmosHeatRates.png)"
   ]
  },
  {
   "cell_type": "markdown",
   "id": "336edb07-51fe-4035-9e09-501148941829",
   "metadata": {},
   "source": [
    "***\n",
    "![](img/radHeatRates.png)"
   ]
  },
  {
   "cell_type": "markdown",
   "id": "039bff7a-a22e-403a-b808-555d914c5271",
   "metadata": {},
   "source": [
    "***\n",
    "![](img/lect4_netRadFluxDiv.png)"
   ]
  },
  {
   "attachments": {},
   "cell_type": "markdown",
   "id": "a6b081d0-30f2-4fa4-bbd5-c9454a17e6ad",
   "metadata": {},
   "source": [
    "***\n",
    "# Basic Temperature profile – key factors\n",
    "\n",
    "![](img/tempProfKeyPoints.png)"
   ]
  },
  {
   "cell_type": "markdown",
   "id": "1dc059ce-ba1a-48e4-a2e6-68778e96b8dc",
   "metadata": {},
   "source": [
    "Temperature structure is not homogenous throughout atmosphere owing to different heat energy transport mechanisms & different radiative processes at different altitudes\n",
    "\n",
    "**In the troposphere**\n",
    "- Temperature is determined by a combination of radiative and convective (the vertical transfer of heat through fluid motion or turbulence) processes\n",
    "- Ground warms due to incoming solar radiation and by longwave (IR) radiation emitted by atmospheric absorbers\n",
    "- Ground cools through radiation emissions, latent heat (evaporation), and sensible heat fluxes; latter are both linked with turbulence/convection\n",
    "- The atmosphere above the ground warms by absorbing terrestrial longwave radiation & partly by absorption of solar radiation\n",
    "- However, the resulting vertical (radiative equilibrium) temperature profile is convectively unstable, setting up **vertical mixing that modifies it to its final shape.**\n",
    "\n",
    "**In the stratosphere**\n",
    "- Atmospheric heating due to ozone absorption of solar UV radiation (this prevents stratospheric isothermal layer)\n",
    "- Radiative emissions dominant heat transport mode; ~**region is convectively stable**\n"
   ]
  },
  {
   "cell_type": "markdown",
   "id": "0d9eaaba-84e1-403a-9250-05d9268959d3",
   "metadata": {},
   "source": [
    "***\n",
    "![](img/summary.png)\n",
    "***"
   ]
  },
  {
   "cell_type": "markdown",
   "id": "7228384c-960b-4466-96db-9099c4ebc5a8",
   "metadata": {},
   "source": [
    "![](img/nobel_prize.png)"
   ]
  }
 ],
 "metadata": {
  "kernelspec": {
   "display_name": "Python 3 (ipykernel)",
   "language": "python",
   "name": "python3"
  },
  "language_info": {
   "codemirror_mode": {
    "name": "ipython",
    "version": 3
   },
   "file_extension": ".py",
   "mimetype": "text/x-python",
   "name": "python",
   "nbconvert_exporter": "python",
   "pygments_lexer": "ipython3",
   "version": "3.11.5"
  }
 },
 "nbformat": 4,
 "nbformat_minor": 5
}
